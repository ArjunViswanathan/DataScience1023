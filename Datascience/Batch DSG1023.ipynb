{
 "cells": [
  {
   "cell_type": "code",
   "execution_count": 3,
   "id": "2859d89c",
   "metadata": {},
   "outputs": [
    {
     "name": "stdout",
     "output_type": "stream",
     "text": [
      "Arjun Viswanathan\n"
     ]
    }
   ],
   "source": [
    "print(\"Arjun Viswanathan\")"
   ]
  },
  {
   "cell_type": "code",
   "execution_count": 1,
   "id": "8b025fa5",
   "metadata": {},
   "outputs": [
    {
     "name": "stdout",
     "output_type": "stream",
     "text": [
      "Hello World!\n"
     ]
    }
   ],
   "source": [
    "print(\"Hello World!\")"
   ]
  },
  {
   "cell_type": "code",
   "execution_count": 2,
   "id": "3a810d7d",
   "metadata": {},
   "outputs": [
    {
     "data": {
      "text/plain": [
       "15"
      ]
     },
     "execution_count": 2,
     "metadata": {},
     "output_type": "execute_result"
    }
   ],
   "source": [
    "10+5"
   ]
  },
  {
   "cell_type": "markdown",
   "id": "35097c64",
   "metadata": {},
   "source": [
    "cntrl + Enter (Run the cell)\n",
    "Shift + Enter (Run the cell)\n",
    "\n",
    "esc+a - Adding a cell above\n",
    "esc+b - Adding a cell below\n",
    "\n",
    "esc+d+d -Delete a cell"
   ]
  },
  {
   "cell_type": "code",
   "execution_count": null,
   "id": "7f1a69b3",
   "metadata": {},
   "outputs": [],
   "source": []
  }
 ],
 "metadata": {
  "kernelspec": {
   "display_name": "Python 3 (ipykernel)",
   "language": "python",
   "name": "python3"
  },
  "language_info": {
   "codemirror_mode": {
    "name": "ipython",
    "version": 3
   },
   "file_extension": ".py",
   "mimetype": "text/x-python",
   "name": "python",
   "nbconvert_exporter": "python",
   "pygments_lexer": "ipython3",
   "version": "3.11.5"
  }
 },
 "nbformat": 4,
 "nbformat_minor": 5
}
